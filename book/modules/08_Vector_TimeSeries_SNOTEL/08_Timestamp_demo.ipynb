{
 "cells": [
  {
   "cell_type": "markdown",
   "metadata": {},
   "source": [
    "# 08 Demo: Timestamp and Timedelta\n",
    "\n",
    "## Introduction\n",
    "* https://csit.kutztown.edu/~schwesin/fall20/csc223/lectures/Pandas_Time_Series.html\n",
    "* Multiple options to represent datetime objects - easy to convert\n",
    "\n",
    "### Python `datetime`\n",
    "* Built-in module\n",
    "\n",
    "### NumPy `datetime64`\n",
    "* https://numpy.org/doc/stable/reference/arrays.datetime.html\n",
    "\n",
    "### Pandas `Timestamp`\n",
    "* https://pandas.pydata.org/docs/user_guide/timeseries.html\n",
    "* `DatetimeIndex`\n",
    "* `pd.to_datetime()`\n",
    "\n",
    "### xarray\n",
    "* https://xarray.pydata.org/en/stable/user-guide/time-series.html"
   ]
  },
  {
   "cell_type": "markdown",
   "metadata": {},
   "source": [
    "## Discussion\n",
    "* (t,x,y,z) records for one or more variables\n",
    "* Pandas Timestamp vs. Python DateTime vs. Numpy.DateTime64\n",
    "    * https://pandas.pydata.org/pandas-docs/stable/reference/api/pandas.Timestamp.html\n",
    "    * groupby/agg\n",
    "* Dealing with missing values in DataFrame\n",
    "    * Sometimes sensors fail or datalogger fails, sometimes values are flagged as erroneous\n",
    "    * Pandas has excellent support for missing values: https://pandas.pydata.org/pandas-docs/stable/user_guide/missing_data.html\n",
    "    * `dropna()` https://pandas.pydata.org/pandas-docs/stable/reference/api/pandas.DataFrame.dropna.html#pandas.DataFrame.dropna\n",
    "* Trajectories\n",
    "    * Argo floats (https://argo.ucsd.edu/)\n",
    "    * Weather balloons\n",
    "    * GNSS tracks - vehicles, pedestrians, aircraft\n",
    "        * Spatial and temporal derivatives\n",
    "* Permanent stations\n",
    "    * Stream gage\n",
    "    * SNOTEL sites\n",
    "* How big is too big for Pandas/GeoPandas?\n",
    "    * https://github.com/toddwschneider/nyc-taxi-data\n",
    "    * PostgreSQL/PostGIS\n",
    "        * SQL - Structured Query Language, used for managing data in a relational database\n",
    "* xarray multiple variables for each station on each day, not just snow depth\n",
    "* Two separate dataframes\n",
    "    * One storing locations of all sites\n",
    "    * One storing time series of some variable for all sites\n",
    "    * Common station ID as key"
   ]
  },
  {
   "cell_type": "code",
   "execution_count": 1,
   "metadata": {},
   "outputs": [],
   "source": [
    "import pandas as pd"
   ]
  },
  {
   "cell_type": "code",
   "execution_count": 2,
   "metadata": {},
   "outputs": [],
   "source": [
    "ts1 = pd.Timestamp('2019-02-01 12:00:00')"
   ]
  },
  {
   "cell_type": "code",
   "execution_count": 3,
   "metadata": {},
   "outputs": [],
   "source": [
    "ts2 = pd.Timestamp('2019-02-06 00:00:00')"
   ]
  },
  {
   "cell_type": "code",
   "execution_count": 4,
   "metadata": {},
   "outputs": [
    {
     "data": {
      "text/plain": [
       "Timestamp('2019-02-01 12:00:00')"
      ]
     },
     "execution_count": 4,
     "metadata": {},
     "output_type": "execute_result"
    }
   ],
   "source": [
    "ts1"
   ]
  },
  {
   "cell_type": "code",
   "execution_count": 5,
   "metadata": {},
   "outputs": [
    {
     "data": {
      "text/plain": [
       "Timestamp('2019-02-06 00:00:00')"
      ]
     },
     "execution_count": 5,
     "metadata": {},
     "output_type": "execute_result"
    }
   ],
   "source": [
    "ts2"
   ]
  },
  {
   "cell_type": "code",
   "execution_count": 6,
   "metadata": {},
   "outputs": [],
   "source": [
    "dt = ts2 - ts1"
   ]
  },
  {
   "cell_type": "code",
   "execution_count": 7,
   "metadata": {},
   "outputs": [
    {
     "data": {
      "text/plain": [
       "Timedelta('4 days 12:00:00')"
      ]
     },
     "execution_count": 7,
     "metadata": {},
     "output_type": "execute_result"
    }
   ],
   "source": [
    "dt"
   ]
  },
  {
   "cell_type": "code",
   "execution_count": 8,
   "metadata": {},
   "outputs": [
    {
     "data": {
      "text/plain": [
       "Timestamp('2019-02-06 00:00:00')"
      ]
     },
     "execution_count": 8,
     "metadata": {},
     "output_type": "execute_result"
    }
   ],
   "source": [
    "ts1 + dt"
   ]
  },
  {
   "cell_type": "code",
   "execution_count": 9,
   "metadata": {},
   "outputs": [
    {
     "data": {
      "text/plain": [
       "Timestamp('2019-02-10 12:00:00')"
      ]
     },
     "execution_count": 9,
     "metadata": {},
     "output_type": "execute_result"
    }
   ],
   "source": [
    "ts2 + dt"
   ]
  },
  {
   "cell_type": "code",
   "execution_count": 10,
   "metadata": {},
   "outputs": [
    {
     "data": {
      "text/plain": [
       "Timestamp('2019-01-31 12:00:00')"
      ]
     },
     "execution_count": 10,
     "metadata": {},
     "output_type": "execute_result"
    }
   ],
   "source": [
    "ts1 - pd.Timedelta(days=1)"
   ]
  },
  {
   "cell_type": "code",
   "execution_count": 11,
   "metadata": {},
   "outputs": [
    {
     "data": {
      "text/plain": [
       "388800.0"
      ]
     },
     "execution_count": 11,
     "metadata": {},
     "output_type": "execute_result"
    }
   ],
   "source": [
    "dt.total_seconds()"
   ]
  }
 ],
 "metadata": {
  "kernelspec": {
   "display_name": "Python 3 (ipykernel)",
   "language": "python",
   "name": "python3"
  },
  "language_info": {
   "codemirror_mode": {
    "name": "ipython",
    "version": 3
   },
   "file_extension": ".py",
   "mimetype": "text/x-python",
   "name": "python",
   "nbconvert_exporter": "python",
   "pygments_lexer": "ipython3",
   "version": "3.9.7"
  }
 },
 "nbformat": 4,
 "nbformat_minor": 4
}
