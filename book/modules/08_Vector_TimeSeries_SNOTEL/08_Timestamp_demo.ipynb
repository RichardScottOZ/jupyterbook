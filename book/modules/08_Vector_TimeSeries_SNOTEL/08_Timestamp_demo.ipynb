{
 "cells": [
  {
   "cell_type": "markdown",
   "metadata": {},
   "source": [
    "# 08 Demo: Python Time\n",
    "UW Geospatial Data Analysis  \n",
    "CEE498/CEWA599  \n",
    "David Shean  \n",
    "\n",
    "## Introduction\n",
    "* https://csit.kutztown.edu/~schwesin/fall20/csc223/lectures/Pandas_Time_Series.html\n",
    "* Multiple options to represent datetime objects - easy to convert\n",
    "\n",
    "### Python `datetime`\n",
    "* Built-in module called `datetime` which contains classes for `datetime` object (and `timedelta` object) - can be confusing\n",
    "* https://docs.python.org/3/library/datetime.html\n",
    "\n",
    "### NumPy `datetime64`\n",
    "* https://numpy.org/doc/stable/reference/arrays.datetime.html\n",
    "\n",
    "### Pandas `Timestamp`\n",
    "* https://pandas.pydata.org/docs/user_guide/timeseries.html\n",
    "* https://pandas.pydata.org/pandas-docs/stable/reference/api/pandas.Timestamp.html\n",
    "* https://pandas.pydata.org/docs/user_guide/timeseries.html#overview\n",
    "* `DatetimeIndex`\n",
    "* `pd.to_datetime()`\n",
    "    * Accepts \"int, float, str, datetime, list, tuple, 1-d array, Series, DataFrame/dict-like\"\n",
    "\n",
    "### xarray\n",
    "* https://xarray.pydata.org/en/stable/user-guide/time-series.html"
   ]
  },
  {
   "cell_type": "markdown",
   "metadata": {},
   "source": [
    "### Day of calendar year\n",
    "* January 1 = 1\n",
    "* January 2 = 2\n",
    "* December 31 = 365 \n",
    "\n",
    "### Water year\n",
    "* Starts October 1, ends September"
   ]
  },
  {
   "cell_type": "markdown",
   "metadata": {},
   "source": [
    "### Time zones\n",
    "* Let Pandas handle this\n",
    "* You will inevitably get a warning about timezone aware vs. naive Timestamp objects\n",
    "    * Add time zone: https://pandas.pydata.org/docs/reference/api/pandas.Timestamp.tz_localize.html\n",
    "    * Remove time zone: https://stackoverflow.com/a/34687479\n",
    "* General advice (time and timestamps are messy): https://www.youtube.com/watch?v=-5wpm-gesOY&amp;ab_channel=Computerphile "
   ]
  },
  {
   "cell_type": "markdown",
   "metadata": {},
   "source": [
    "## Discussion\n",
    "* (t,x,y,z) records for one or more variables\n",
    "* Pandas Timestamp vs. Python DateTime vs. Numpy.DateTime64\n",
    "    * Some functions across different modules play nicely with one and not the other\n",
    "* Dealing with missing values in DataFrame\n",
    "    * Sometimes sensors fail or datalogger fails, sometimes values are flagged as erroneous\n",
    "    * Pandas has excellent support for missing values: https://pandas.pydata.org/pandas-docs/stable/user_guide/missing_data.html\n",
    "    * `dropna()` https://pandas.pydata.org/pandas-docs/stable/reference/api/pandas.DataFrame.dropna.html#pandas.DataFrame.dropna\n",
    "* Trajectories\n",
    "    * Argo floats (https://argo.ucsd.edu/)\n",
    "    * Weather balloons\n",
    "    * GNSS tracks - vehicles, pedestrians, aircraft\n",
    "        * Spatial and temporal derivatives\n",
    "* Permanent stations\n",
    "    * Stream gage\n",
    "    * SNOTEL sites\n",
    "* How big is too big for Pandas/GeoPandas?\n",
    "    * https://github.com/toddwschneider/nyc-taxi-data\n",
    "    * PostgreSQL/PostGIS\n",
    "        * SQL - Structured Query Language, used for managing data in a relational database\n",
    "* What to do with multiple variables for each timestamp?\n",
    "    * xarray works well for multiple variables (e.g., snow depth and SWE for same site) for each station for each time\n",
    "        * https://docs.xarray.dev/en/stable/\n",
    "    * Separate 2D dataframes\n",
    "        * One storing locations of all sites\n",
    "        * One storing time series of some variable for all sites\n",
    "        * Common station ID as key"
   ]
  },
  {
   "cell_type": "code",
   "execution_count": null,
   "metadata": {},
   "outputs": [],
   "source": [
    "from datetime import datetime\n",
    "import pandas as pd\n",
    "import numpy as np"
   ]
  },
  {
   "cell_type": "code",
   "execution_count": null,
   "metadata": {},
   "outputs": [],
   "source": [
    "dt1 = datetime(2022, 2, 22)\n",
    "dt2 = datetime.now()"
   ]
  },
  {
   "cell_type": "code",
   "execution_count": null,
   "metadata": {},
   "outputs": [],
   "source": [
    "print(dt2)"
   ]
  },
  {
   "cell_type": "code",
   "execution_count": null,
   "metadata": {},
   "outputs": [],
   "source": [
    "dt2.year"
   ]
  },
  {
   "cell_type": "code",
   "execution_count": null,
   "metadata": {},
   "outputs": [],
   "source": [
    "dt2.strftime('%Y%m%d')"
   ]
  },
  {
   "cell_type": "code",
   "execution_count": null,
   "metadata": {},
   "outputs": [],
   "source": [
    "dt2 - dt1"
   ]
  },
  {
   "cell_type": "code",
   "execution_count": null,
   "metadata": {},
   "outputs": [],
   "source": [
    "pd.to_datetime(dt2)"
   ]
  },
  {
   "cell_type": "code",
   "execution_count": null,
   "metadata": {},
   "outputs": [],
   "source": [
    "ts1 = pd.Timestamp('2019-02-01 12:00:00')"
   ]
  },
  {
   "cell_type": "code",
   "execution_count": null,
   "metadata": {},
   "outputs": [],
   "source": [
    "ts2 = pd.Timestamp('2019-02-06 00:00:00')"
   ]
  },
  {
   "cell_type": "code",
   "execution_count": null,
   "metadata": {},
   "outputs": [],
   "source": [
    "ts1"
   ]
  },
  {
   "cell_type": "code",
   "execution_count": null,
   "metadata": {},
   "outputs": [],
   "source": [
    "ts2"
   ]
  },
  {
   "cell_type": "code",
   "execution_count": null,
   "metadata": {},
   "outputs": [],
   "source": [
    "dt = ts2 - ts1"
   ]
  },
  {
   "cell_type": "code",
   "execution_count": null,
   "metadata": {},
   "outputs": [],
   "source": [
    "dt"
   ]
  },
  {
   "cell_type": "code",
   "execution_count": null,
   "metadata": {},
   "outputs": [],
   "source": [
    "ts1 + dt"
   ]
  },
  {
   "cell_type": "code",
   "execution_count": null,
   "metadata": {},
   "outputs": [],
   "source": [
    "ts2 + dt"
   ]
  },
  {
   "cell_type": "code",
   "execution_count": null,
   "metadata": {},
   "outputs": [],
   "source": [
    "ts1 - pd.Timedelta(days=1)"
   ]
  },
  {
   "cell_type": "code",
   "execution_count": null,
   "metadata": {},
   "outputs": [],
   "source": [
    "dt.total_seconds()"
   ]
  }
 ],
 "metadata": {
  "kernelspec": {
   "display_name": "Python 3 (ipykernel)",
   "language": "python",
   "name": "python3"
  },
  "language_info": {
   "codemirror_mode": {
    "name": "ipython",
    "version": 3
   },
   "file_extension": ".py",
   "mimetype": "text/x-python",
   "name": "python",
   "nbconvert_exporter": "python",
   "pygments_lexer": "ipython3",
   "version": "3.9.7"
  }
 },
 "nbformat": 4,
 "nbformat_minor": 4
}
