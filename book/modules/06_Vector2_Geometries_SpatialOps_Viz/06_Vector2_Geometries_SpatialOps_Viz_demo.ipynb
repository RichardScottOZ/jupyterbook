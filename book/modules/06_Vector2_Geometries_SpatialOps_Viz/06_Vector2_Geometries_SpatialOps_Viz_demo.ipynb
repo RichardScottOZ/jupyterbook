{
 "cells": [
  {
   "cell_type": "markdown",
   "id": "6b94e513-dfd5-4436-98b4-853533b02acf",
   "metadata": {},
   "source": [
    "# Vector 2: Geometries, Spatial Operations and Visualization Demo\n",
    "\n",
    "UW Geospatial Data Analysis  \n",
    "CEE498/CEWA599  \n",
    "David Shean  "
   ]
  },
  {
   "cell_type": "markdown",
   "id": "445651bd-ea81-41f1-8df4-303f4906af46",
   "metadata": {},
   "source": [
    "## Background\n",
    "\n",
    "https://autogis-site.readthedocs.io/en/latest/notebooks/L1/geometric-objects.html\n",
    "\n",
    "Take a look at the first few sections of the shapely manual: https://shapely.readthedocs.io/en/stable/manual.html\n",
    "\n",
    "Many of these are implemented in GeoPandas, and they will operate over GeoDataFrame and GeoSeries objects:\n",
    "https://geopandas.org/en/stable/docs/reference.html\n",
    "\n",
    "These are common functions, and good to have in your toolkit for additional spatial analysis\n",
    "If you've taken a GIS class, you've definitely encountered these, probably through some kind of vector toolkit\n",
    "\n",
    "## Interactive Discussion\n",
    "### GeoDataFrame vs. GeoSeries\n",
    "* https://geopandas.org/data_structures.html\n",
    "* Indexing and selection - `iloc`, `loc`\n",
    "* Pandas `squeeze`: https://pandas.pydata.org/pandas-docs/stable/reference/api/pandas.DataFrame.squeeze.html\n",
    "\n",
    "### Geometry objects\n",
    "* POINT, LINE, POLYGON\n",
    "* Polygon vs. MultiPolygon\n",
    "\n",
    "### GEOS geometry operations, as exposed by `shapely`\n",
    "* GEOS https://trac.osgeo.org/geos/\n",
    "* https://geopandas.org/geometric_manipulations.html\n",
    "* Intersection\n",
    "* Union\n",
    "* Buffer\n",
    "\n",
    "### Spatial joins with GeoPandas\n",
    "* https://gisgeography.com/spatial-join/\n",
    "* https://pandas.pydata.org/pandas-docs/stable/user_guide/merging.html\n",
    "\n",
    "### Visualization: Chloropleth and Heatmap\n",
    "* https://geopandas.org/mapping.html\n",
    "\n",
    "### Interactive plotting\n",
    "* ipyleaflet, folium\n",
    "* Basemap tiles with contextily"
   ]
  },
  {
   "cell_type": "markdown",
   "id": "ce6a6695-7694-4a81-8198-d419e933105b",
   "metadata": {},
   "source": [
    "## Interactive Demo"
   ]
  },
  {
   "cell_type": "code",
   "execution_count": null,
   "id": "3f93b0eb-e82b-412a-966c-e1e227a292e9",
   "metadata": {},
   "outputs": [],
   "source": [
    "### Polygon creation\n",
    "### Basic geometric operations on GeoDataFrame and Geometry objects"
   ]
  },
  {
   "cell_type": "code",
   "execution_count": null,
   "id": "442d5cd7-15be-488a-bf2d-8b30eb06c3fa",
   "metadata": {},
   "outputs": [],
   "source": [
    "import os\n",
    "import requests\n",
    "\n",
    "import matplotlib.pyplot as plt\n",
    "import numpy as np\n",
    "import pandas as pd\n",
    "import geopandas as gpd\n",
    "from shapely.geometry import Point, Polygon\n",
    "import fiona\n",
    "#plt.rcParams['figure.figsize'] = [10, 8]"
   ]
  },
  {
   "cell_type": "code",
   "execution_count": null,
   "id": "6102659a-197e-40fd-ad20-c2e92b4a96d7",
   "metadata": {},
   "outputs": [],
   "source": [
    "#%matplotlib widget"
   ]
  },
  {
   "cell_type": "markdown",
   "id": "86f8ec32-d6ce-48a1-8127-e7a2526c2e06",
   "metadata": {
    "tags": []
   },
   "source": [
    "## Read in the projected GLAS points\n",
    "* Ideally, use the file with equal-area projection exported during Lab04\n",
    "* Note, you can right-click on a file in the Jupyterlab file browser, and select \"Copy Path\", then paste, but make sure you get the correct relative path to the current notebook (`../`)\n",
    "* If you have issues with your file, you can recreate:\n",
    "    * Read the original GLAS csv\n",
    "    * Load into GeoDataFrame, define CRS (`'EPSG:4326'`)\n",
    "    * Reproject with following PROJ string: `'+proj=aea +lat_1=37.00 +lat_2=47.00 +lat_0=42.00 +lon_0=-114.27'`"
   ]
  },
  {
   "cell_type": "code",
   "execution_count": null,
   "id": "1991c72e-c454-4e16-a8b1-74e436d24851",
   "metadata": {},
   "outputs": [],
   "source": [
    "#Loading from Lab04\n",
    "#aea_fn = '../04_Vector1_Geopandas_CRS_Proj/conus_glas_aea.gpkg'\n",
    "#glas_gdf_aea = gpd.read_file(aea_fn)"
   ]
  },
  {
   "cell_type": "code",
   "execution_count": null,
   "id": "e508b8e8-6df7-456c-a34e-dcb776b29690",
   "metadata": {},
   "outputs": [],
   "source": [
    "#Recreating\n",
    "aea_proj_str = '+proj=aea +lat_1=37.00 +lat_2=47.00 +lat_0=42.00 +lon_0=-114.27'\n",
    "csv_fn = '../01_Shell_Github/data/GLAH14_tllz_conus_lulcfilt_demfilt.csv'\n",
    "glas_df = pd.read_csv(csv_fn)\n",
    "glas_gdf = gpd.GeoDataFrame(glas_df, crs='EPSG:4326', geometry=gpd.points_from_xy(glas_df['lon'], glas_df['lat']))\n",
    "glas_gdf_aea = glas_gdf.to_crs(aea_proj_str)"
   ]
  },
  {
   "cell_type": "code",
   "execution_count": null,
   "id": "2fc9382b-83f3-425f-8806-e4cb6328e1a3",
   "metadata": {},
   "outputs": [],
   "source": [
    "glas_gdf_aea.head()"
   ]
  },
  {
   "cell_type": "markdown",
   "id": "b03eab21-7e60-4aac-ab72-d33423f12f07",
   "metadata": {},
   "source": [
    "## Create a variable to store the `crs` of your GeoDataFrame\n",
    "* Quickly print this out to verify everything looks good"
   ]
  },
  {
   "cell_type": "code",
   "execution_count": null,
   "id": "35fbe0ce-0046-4e4c-8fdc-f6b416a84b77",
   "metadata": {},
   "outputs": [],
   "source": [
    "aea_crs = glas_gdf_aea.crs\n",
    "aea_crs"
   ]
  },
  {
   "cell_type": "markdown",
   "id": "433ede43-d51d-49b2-a04c-c731659c8d97",
   "metadata": {},
   "source": [
    "## Read in the state polygons"
   ]
  },
  {
   "cell_type": "code",
   "execution_count": null,
   "id": "d5786085-3971-463b-9f44-7dbaf2ae11ca",
   "metadata": {},
   "outputs": [],
   "source": [
    "states_url = 'http://eric.clst.org/assets/wiki/uploads/Stuff/gz_2010_us_040_00_5m.json'\n",
    "#states_url = 'http://eric.clst.org/assets/wiki/uploads/Stuff/gz_2010_us_040_00_500k.json'\n",
    "states_gdf = gpd.read_file(states_url)"
   ]
  },
  {
   "cell_type": "markdown",
   "id": "364c7028-47b1-4e2f-af3a-835655a81cbd",
   "metadata": {},
   "source": [
    "## Limit to Lower48"
   ]
  },
  {
   "cell_type": "code",
   "execution_count": null,
   "id": "5e9fcebc-4003-4705-9660-24dcf2a41002",
   "metadata": {},
   "outputs": [],
   "source": [
    "idx = states_gdf['NAME'].isin(['Alaska','Puerto Rico','Hawaii'])\n",
    "states_gdf = states_gdf[~idx]"
   ]
  },
  {
   "cell_type": "markdown",
   "id": "6aa368b2-0c2b-4330-9a77-4972af287299",
   "metadata": {},
   "source": [
    "## Reproject the states to match the `crs` of your points"
   ]
  },
  {
   "cell_type": "code",
   "execution_count": null,
   "id": "e2880728-c7b1-4f24-96d1-673710d0cd0f",
   "metadata": {},
   "outputs": [],
   "source": [
    "states_gdf_aea = states_gdf.to_crs(aea_crs)"
   ]
  },
  {
   "cell_type": "markdown",
   "id": "4b860e8a-82b2-466f-928b-3c339078d058",
   "metadata": {},
   "source": [
    "## Create a quick plot to verify everything looks good\n",
    "* Can re-use plotting code near the end of Lab04"
   ]
  },
  {
   "cell_type": "code",
   "execution_count": null,
   "id": "0113d3b5-51c0-4370-84e6-cc36f1409d50",
   "metadata": {},
   "outputs": [],
   "source": [
    "f, ax = plt.subplots()\n",
    "states_gdf_aea.plot(ax=ax, facecolor='none', edgecolor='k')\n",
    "glas_gdf_aea.plot(ax=ax, column='glas_z', cmap='inferno', markersize=1, legend=True);"
   ]
  },
  {
   "cell_type": "markdown",
   "id": "924f0380-6201-49a6-83aa-3288929c878d",
   "metadata": {},
   "source": [
    "## Extract the MultiPolygon geometry object for Washington from your reprojected states GeoDataFrame\n",
    "* Use the state 'NAME' value to isolate the approprate GeoDataFrame record for Washington\n",
    "* Assign the `geometry` attribute for this record to a new variable called `wa_geom`\n",
    "    * This is a little tricky\n",
    "    * After a boolean filter to get the WA record, you will need to use something like `iloc[0]` to extract a GeoSeries, and then isolate the `geometry` attribute\n",
    "        * `wa_geom = wa_gdf.iloc[0].geometry`\n",
    "    * Use the python `type()` function to verify that your output type is `shapely.geometry.multipolygon.MultiPolygon`"
   ]
  },
  {
   "cell_type": "code",
   "execution_count": null,
   "id": "1e050f0a-2bca-4ba2-b4ef-85da0db28a20",
   "metadata": {},
   "outputs": [],
   "source": [
    "# This is a new GeoDataFrame with one entry\n",
    "wa_gdf = states_gdf_aea[states_gdf_aea['NAME'] == 'Washington']"
   ]
  },
  {
   "cell_type": "code",
   "execution_count": null,
   "id": "95513ec5-7227-40e4-8ebf-028b57b2ab37",
   "metadata": {},
   "outputs": [],
   "source": [
    "wa_gdf"
   ]
  },
  {
   "cell_type": "code",
   "execution_count": null,
   "id": "4796e898-a5d2-460c-987f-c175e488a6c8",
   "metadata": {},
   "outputs": [],
   "source": [
    "type(wa_gdf)"
   ]
  },
  {
   "cell_type": "markdown",
   "id": "95c8c394-2247-4eb2-bb00-e18c6cdd3aec",
   "metadata": {},
   "source": [
    "### Review loc, iloc, squeeze"
   ]
  },
  {
   "cell_type": "code",
   "execution_count": null,
   "id": "d8ac8dfc-5e05-44c4-bd83-6d96849fbd21",
   "metadata": {},
   "outputs": [],
   "source": [
    "wa_gdf.loc[47]"
   ]
  },
  {
   "cell_type": "code",
   "execution_count": null,
   "id": "6794b506-cd52-4727-a411-ce60a4ca6da8",
   "metadata": {},
   "outputs": [],
   "source": [
    "wa_gdf.iloc[0]"
   ]
  },
  {
   "cell_type": "code",
   "execution_count": null,
   "id": "283dc874-22d3-454f-9cd0-d69f93a72620",
   "metadata": {},
   "outputs": [],
   "source": [
    "wa_gdf.squeeze()"
   ]
  },
  {
   "cell_type": "code",
   "execution_count": null,
   "id": "6faf1c0a-a973-40e1-8715-8a45f6c6ed9d",
   "metadata": {},
   "outputs": [],
   "source": [
    "type(wa_gdf.squeeze())"
   ]
  },
  {
   "cell_type": "code",
   "execution_count": null,
   "id": "c44196f0-9b7c-4555-a215-e4b74e07358a",
   "metadata": {},
   "outputs": [],
   "source": [
    "# This is the Geometry object for that one entry\n",
    "wa_geom = wa_gdf.squeeze().geometry"
   ]
  },
  {
   "cell_type": "code",
   "execution_count": null,
   "id": "4666bdc2-851a-4c2d-8cd9-0b3f37cf4866",
   "metadata": {},
   "outputs": [],
   "source": [
    "type(wa_geom)"
   ]
  },
  {
   "cell_type": "markdown",
   "id": "02c84798-6722-4fc0-922c-bfe6e4546f05",
   "metadata": {},
   "source": [
    "## Inspect the Washington geometry object"
   ]
  },
  {
   "cell_type": "markdown",
   "id": "f6b17dab-e950-4810-acfd-a9cf32fca5c2",
   "metadata": {},
   "source": [
    "### What happens when you pass the geometry object to `print()`?"
   ]
  },
  {
   "cell_type": "code",
   "execution_count": null,
   "id": "64e4c921-9a82-42ef-8fad-e4112e20b24a",
   "metadata": {
    "tags": []
   },
   "outputs": [],
   "source": [
    "#print(wa_geom)"
   ]
  },
  {
   "cell_type": "markdown",
   "id": "c59045c5-cced-483c-895a-b95ccecb0e71",
   "metadata": {},
   "source": [
    "### What happens when you execute a notebook cell containing only the geometry object variable name? Oooh.\n",
    "* Thanks Jupyter/iPython!"
   ]
  },
  {
   "cell_type": "code",
   "execution_count": null,
   "id": "2263a667-8679-4b65-bddb-5d8c96df0bbc",
   "metadata": {},
   "outputs": [],
   "source": [
    "wa_geom"
   ]
  },
  {
   "cell_type": "markdown",
   "id": "9f70fa2d-e2f4-408f-8b2a-b852eb8a8fe1",
   "metadata": {},
   "source": [
    "### What is the geometry type?"
   ]
  },
  {
   "cell_type": "code",
   "execution_count": null,
   "id": "57ee4648-9ff9-43cb-b09d-d299be4b16d9",
   "metadata": {},
   "outputs": [],
   "source": [
    "wa_geom.geom_type"
   ]
  },
  {
   "cell_type": "markdown",
   "id": "28fb3d71-33d1-4d14-93a0-c2296656aeb8",
   "metadata": {
    "tags": []
   },
   "source": [
    "## Find the geometric center of WA state\n",
    "* See the `centroid` attribute\n",
    "* You may have to `print()` this to see the coordinates"
   ]
  },
  {
   "cell_type": "code",
   "execution_count": null,
   "id": "43f8fc5d-44c9-4c4f-ade2-cec1f777f399",
   "metadata": {},
   "outputs": [],
   "source": [
    "#GeoDataFrame\n",
    "#c = wa_gdf.centroid.iloc[0]\n",
    "#MultiPolygon Geometry\n",
    "c = wa_geom.centroid"
   ]
  },
  {
   "cell_type": "code",
   "execution_count": null,
   "id": "aa4cffb4-f126-4a43-b96e-cbfaeadd3135",
   "metadata": {},
   "outputs": [],
   "source": [
    "c"
   ]
  },
  {
   "cell_type": "code",
   "execution_count": null,
   "id": "bfdb534b-c7a2-4813-8ec6-79c30b562e84",
   "metadata": {},
   "outputs": [],
   "source": [
    "print(c)"
   ]
  },
  {
   "cell_type": "markdown",
   "id": "c369106b-c5ca-45b6-ad67-374108bbda0d",
   "metadata": {},
   "source": [
    "### How many individual polygons are contained in the WA geometry?  \n",
    "* Hint: how would you get the number of elements in a standard Python tuple or list?  \n",
    "* If more than one, why?"
   ]
  },
  {
   "cell_type": "code",
   "execution_count": null,
   "id": "99cb9f39-0915-40f6-a266-306ce5afbcee",
   "metadata": {},
   "outputs": [],
   "source": [
    "list(wa_geom.geoms)"
   ]
  },
  {
   "cell_type": "code",
   "execution_count": null,
   "id": "6414627f-44af-415d-a22d-9e85307f316e",
   "metadata": {},
   "outputs": [],
   "source": [
    "len(wa_geom.geoms)"
   ]
  },
  {
   "cell_type": "markdown",
   "id": "4922ef2e-cc9c-4da9-acc6-1d6aa74acd8f",
   "metadata": {},
   "source": [
    "## Cracking open the geometry collection"
   ]
  },
  {
   "cell_type": "markdown",
   "id": "9fdde7b2-48ae-4690-a5a5-504b9fea13c8",
   "metadata": {},
   "source": [
    "### Compute the area of each individual polygon\n",
    "* Remember, this MultiPolygon object is iterable, so maybe list comprehension here?\n",
    "* Store the output areas in a new list or array"
   ]
  },
  {
   "cell_type": "code",
   "execution_count": null,
   "id": "5a2557f6-92cc-4372-9c88-207ced606ddb",
   "metadata": {},
   "outputs": [],
   "source": [
    "poly_area = [x.area for x in wa_geom.geoms]\n",
    "poly_area"
   ]
  },
  {
   "cell_type": "markdown",
   "id": "4bb3bf04-3108-449f-8f9c-89e11e795b51",
   "metadata": {},
   "source": [
    "### Isolate and render the polygons that have min and max area\n",
    "* Remember the NumPy `argmax` function? Maybe useful here..."
   ]
  },
  {
   "cell_type": "code",
   "execution_count": null,
   "id": "7256a138-eb1f-45b2-8155-ce929a1c522e",
   "metadata": {},
   "outputs": [],
   "source": [
    "maxidx = np.argmax(poly_area)\n",
    "minidx = np.argmin(poly_area)"
   ]
  },
  {
   "cell_type": "code",
   "execution_count": null,
   "id": "290ba6c4-8599-4038-8535-630adcc224d3",
   "metadata": {},
   "outputs": [],
   "source": [
    "maxidx"
   ]
  },
  {
   "cell_type": "code",
   "execution_count": null,
   "id": "b3fc11eb-a022-445f-841f-bd3f46990015",
   "metadata": {},
   "outputs": [],
   "source": [
    "print(wa_geom.geoms[maxidx].area)\n",
    "wa_geom.geoms[maxidx]"
   ]
  },
  {
   "cell_type": "code",
   "execution_count": null,
   "id": "7ac34f8c-1a55-47cd-a240-21613cefc4db",
   "metadata": {},
   "outputs": [],
   "source": [
    "print(wa_geom.geoms[minidx].area)\n",
    "wa_geom.geoms[minidx]"
   ]
  },
  {
   "cell_type": "markdown",
   "id": "54d6a679-ffdf-47e7-8ba4-773f7eed285c",
   "metadata": {},
   "source": [
    "### How many vertices are in the largest polygon?\n",
    "* Let's start by looking at the `exterior` ring of the largest polygon geometry\n",
    "    * This is actually a line, so if you ever need to convert a simple polygon geometry to a line geometry, now you know how to do it - use `exterior`! \n",
    "    * You should see an outline of WA state\n",
    "* Now let's access the coordinates for this line geometry with `coords[:]`\n",
    "    * This will return a list of (x,y) tuples for each vertex\n",
    "* You already know how to determine the number of items in a list!"
   ]
  },
  {
   "cell_type": "code",
   "execution_count": null,
   "id": "e2a3e937-b9f2-450e-b515-4ce465d503b5",
   "metadata": {},
   "outputs": [],
   "source": [
    "wa_geom.geoms[maxidx].exterior"
   ]
  },
  {
   "cell_type": "code",
   "execution_count": null,
   "id": "e1cd17b1-fae9-4f65-80fa-df7c1b381ad9",
   "metadata": {},
   "outputs": [],
   "source": [
    "type(wa_geom.geoms[maxidx].exterior)"
   ]
  },
  {
   "cell_type": "code",
   "execution_count": null,
   "id": "20f89dac-e36b-411e-bc51-ffce138b6ed4",
   "metadata": {},
   "outputs": [],
   "source": [
    "wa_geom.geoms[maxidx].exterior.coords"
   ]
  },
  {
   "cell_type": "code",
   "execution_count": null,
   "id": "3fe2b437-ca23-45bf-89eb-c202ba8f890c",
   "metadata": {},
   "outputs": [],
   "source": [
    "#Preview first 10 vertices\n",
    "wa_geom.geoms[maxidx].exterior.coords[:][0:10]"
   ]
  },
  {
   "cell_type": "code",
   "execution_count": null,
   "id": "b910960b-e3ee-4abb-8da2-6a43e657e177",
   "metadata": {},
   "outputs": [],
   "source": [
    "# Note -1 to remove repeated coord needed to close the polygon\n",
    "len(wa_geom.geoms[maxidx].exterior.coords[:]) - 1"
   ]
  },
  {
   "cell_type": "markdown",
   "id": "e8b7ed56-3734-4dba-b997-6cab3cd54382",
   "metadata": {},
   "source": [
    "## How many vertices in the smallest polygon?"
   ]
  },
  {
   "cell_type": "code",
   "execution_count": null,
   "id": "601384e1-5a0a-427e-bb86-14b09a83280d",
   "metadata": {},
   "outputs": [],
   "source": [
    "len(wa_geom.geoms[minidx].exterior.coords[:]) - 1"
   ]
  },
  {
   "cell_type": "markdown",
   "id": "f351443f-a1e9-4564-9c3c-f5ff864bce44",
   "metadata": {},
   "source": [
    "### Take a look at the list of (x,y) coordinates in the smallest polygon\n",
    "* What do you notice about the first and last coordinate?"
   ]
  },
  {
   "cell_type": "code",
   "execution_count": null,
   "id": "51efbae3-283b-4943-abf6-a4cd61894d03",
   "metadata": {},
   "outputs": [],
   "source": [
    "wa_geom.geoms[minidx].exterior.coords[:]"
   ]
  },
  {
   "cell_type": "markdown",
   "id": "77c2c96b-06f2-4112-8bef-083abf2e057d",
   "metadata": {},
   "source": [
    "This is a closed polygon!  It starts and ends at the same point.  So technically, you have one less vertex than the total number of points in the polygon."
   ]
  },
  {
   "cell_type": "markdown",
   "id": "f3d8f076-ec38-4c78-b795-8fbc623b86ff",
   "metadata": {},
   "source": [
    "## Determine the perimeter of WA state in km\n",
    "* This should be quick - just use an attribtue of the MultiPolygon geometry"
   ]
  },
  {
   "cell_type": "code",
   "execution_count": null,
   "id": "38c32ecc-b5ca-4a32-bf13-5edc20fbb37a",
   "metadata": {},
   "outputs": [],
   "source": [
    "wa_geom.length/1E3"
   ]
  },
  {
   "cell_type": "markdown",
   "id": "67f2586d-7274-493e-9d32-4d55d59f311b",
   "metadata": {},
   "source": [
    "## Explore the `simplify()` method for your MultiPolygon\n",
    "* This can be very useful if you have complex geometry objects that require a lot of memory\n",
    "    * Perhaps a line from a GPS track, or a polygon extracted from a raster with a vertex at each pixel\n",
    "    * You can simplify, preserve almost all of the original information, and remove many (sometimes most) of the redundant/unnecessary vertices\n",
    "* https://shapely.readthedocs.io/en/latest/manual.html#object.simplify\n",
    "* Need to provide a `tolerance` in units of meters\n",
    "    * Try 100, 1000, 10000, 100000\n",
    "    * How does this affect the perimeter measurement?"
   ]
  },
  {
   "cell_type": "code",
   "execution_count": null,
   "id": "ca34c058-f5e5-451e-9c3a-841f4c876f5f",
   "metadata": {},
   "outputs": [],
   "source": [
    "def smart_simplify(geom, tol):\n",
    "    newgeom = geom.simplify(tol)\n",
    "    newvertcount = sum(len(x.exterior.coords[:]) for x in newgeom)\n",
    "    gpd.GeoSeries(newgeom).plot(figsize=(4,3))\n",
    "    print(tol, '%0.1f' % (newgeom.length/1E3), newvertcount)"
   ]
  },
  {
   "cell_type": "code",
   "execution_count": null,
   "id": "6fc7ff3a-c769-467f-997c-262b24d6cf9f",
   "metadata": {},
   "outputs": [],
   "source": [
    "print(\"Tolerance\", \"Perimieter\", \"Num vertices\")\n",
    "for i in (100,1000,10000,100000):\n",
    "    smart_simplify(wa_geom, i)"
   ]
  },
  {
   "cell_type": "markdown",
   "id": "46b91869-8c75-4aeb-8f27-8ba425f96d79",
   "metadata": {},
   "source": [
    "### Extra Credit: What percentage of the total WA state perimeter is from islands?"
   ]
  },
  {
   "cell_type": "code",
   "execution_count": null,
   "id": "ec83654e-3206-4d71-8f0a-d2ff6fce9261",
   "metadata": {},
   "outputs": [],
   "source": [
    "(1.0 - (wa_geom[maxidx].length / wa_geom.length))*100"
   ]
  },
  {
   "cell_type": "markdown",
   "id": "8cc4f2bb-6b06-4b13-bf8e-a946969ca880",
   "metadata": {},
   "source": [
    "## Unite the West Coast!\n",
    "* Let's create a single Multipolygon for West Coast states: Washington, Oregon and California\n",
    "* Start by extracting those states to a new GeoDataFrame - can use the `isin()` function for Pandas, which is similar to built-in `in` operation in Python"
   ]
  },
  {
   "cell_type": "code",
   "execution_count": null,
   "id": "6d69de98-5d42-40cd-8645-9ee2d5e849fa",
   "metadata": {},
   "outputs": [],
   "source": [
    "idx = states_gdf_aea['NAME'].isin(['Washington','Oregon','California'])\n",
    "westcoast_gdf = states_gdf_aea[idx]\n",
    "westcoast_gdf"
   ]
  },
  {
   "cell_type": "code",
   "execution_count": null,
   "id": "74d5e0fd-acd2-4155-87d0-77d267b13a58",
   "metadata": {},
   "outputs": [],
   "source": [
    "westcoast_gdf.plot();"
   ]
  },
  {
   "cell_type": "markdown",
   "id": "80b82f72-db9f-4c7d-a468-0e392aab7b92",
   "metadata": {},
   "source": [
    "## Combine the states as a single MultiPolygon geometry\n",
    "* See the `unary_union` attribute "
   ]
  },
  {
   "cell_type": "code",
   "execution_count": null,
   "id": "df572f52-0899-44f4-839f-fd061ef85b8e",
   "metadata": {},
   "outputs": [],
   "source": [
    "westcoast_geom = westcoast_gdf.unary_union\n",
    "westcoast_geom"
   ]
  },
  {
   "cell_type": "markdown",
   "id": "05d35b04-430e-4af6-adf5-459e6056dcff",
   "metadata": {},
   "source": [
    "Note: If you have a column that classifies features in a GeoDataFrame (e.g., a column for `region` with a shared value of 'West Coast' for these polygons), you can also use `dissolve(by='region')` to create a new GeoDataFrame of merged polygons"
   ]
  },
  {
   "cell_type": "markdown",
   "id": "b9d5219c-59db-4e3d-a23e-6b566e0884c1",
   "metadata": {},
   "source": [
    "## Now buffer the combined geometry\n",
    "* Use a 50 km buffer"
   ]
  },
  {
   "cell_type": "code",
   "execution_count": null,
   "id": "4cee2796-cea2-4c55-9747-b9ae4b983183",
   "metadata": {},
   "outputs": [],
   "source": [
    "westcoast_geom_buff = westcoast_geom.buffer(50000)\n",
    "westcoast_geom_buff"
   ]
  },
  {
   "cell_type": "code",
   "execution_count": null,
   "id": "612a973d-0292-4ffd-b09b-90cfacb5afdc",
   "metadata": {},
   "outputs": [],
   "source": [
    "#Buffer distance can be negative\n",
    "westcoast_geom_erode = westcoast_geom.buffer(-50000)\n",
    "westcoast_geom_erode"
   ]
  },
  {
   "cell_type": "markdown",
   "id": "02177ff0-2698-431b-9340-dc9af08f4e15",
   "metadata": {},
   "source": [
    "## Use a `difference` operation to isolate the buffered region around the individual polygons\n",
    "* This is sometimes useful if you need to extract statistics from another dataset"
   ]
  },
  {
   "cell_type": "code",
   "execution_count": null,
   "id": "1031cf25-b915-4db6-8ce6-ad2d12c755a4",
   "metadata": {},
   "outputs": [],
   "source": [
    "westcoast_geom_buff.difference(westcoast_geom_erode)"
   ]
  },
  {
   "cell_type": "code",
   "execution_count": null,
   "id": "a26d687d-775b-440e-8255-baa2246f49aa",
   "metadata": {},
   "outputs": [],
   "source": [
    "westcoast_geom_buff.difference(westcoast_geom)"
   ]
  },
  {
   "cell_type": "markdown",
   "id": "210c1816-4f90-4bf3-a74d-f24b568a5822",
   "metadata": {},
   "source": [
    "### Somebody should put that on a t-shirt!"
   ]
  },
  {
   "cell_type": "markdown",
   "id": "5752e87a-b5e6-4fcd-a1d5-6e3a221e536e",
   "metadata": {
    "tags": []
   },
   "source": [
    "## RGI glacier polygons\n",
    "\n",
    "Let's grab some glacier outline poygons from the Randolph Glacier Inventory (RGI) v6.0: https://www.glims.org/RGI/"
   ]
  },
  {
   "cell_type": "code",
   "execution_count": null,
   "id": "b5d63e2b-fd58-4db4-b7fd-6521a6eb8109",
   "metadata": {},
   "outputs": [],
   "source": [
    "#Fetch the zip file for Region 02 (Western North America)\n",
    "rgi_zip_fn = '02_rgi60_WesternCanadaUS.zip'\n",
    "\n",
    "if not os.path.exists(rgi_zip_fn):\n",
    "    url = 'https://www.glims.org/RGI/rgi60_files/' + rgi_zip_fn\n",
    "    myfile = requests.get(url)\n",
    "    open(rgi_zip_fn, 'wb').write(myfile.content)"
   ]
  },
  {
   "cell_type": "code",
   "execution_count": null,
   "id": "cd7c5546-83f9-4e36-9fb9-35f3eedd6732",
   "metadata": {},
   "outputs": [],
   "source": [
    "#Specify the shapefile filename within zip archive\n",
    "rgi_fn = 'zip://02_rgi60_WesternCanadaUS.zip!02_rgi60_WesternCanadaUS.shp'"
   ]
  },
  {
   "cell_type": "markdown",
   "id": "c6f38074-7106-43e5-810d-a896249a226e",
   "metadata": {},
   "source": [
    "## Load RGI shapefile using Geopandas\n",
    "* Very easy with `read_file()` meethod"
   ]
  },
  {
   "cell_type": "code",
   "execution_count": null,
   "id": "c42213aa-505a-4ff5-bd72-3ee4b1378ded",
   "metadata": {},
   "outputs": [],
   "source": [
    "rgi_gdf = gpd.read_file(rgi_fn)"
   ]
  },
  {
   "cell_type": "code",
   "execution_count": null,
   "id": "ade70276-9311-43c0-8138-7b4c2a16cc13",
   "metadata": {},
   "outputs": [],
   "source": [
    "rgi_gdf.head()"
   ]
  },
  {
   "cell_type": "markdown",
   "id": "73f08063-e122-4e0e-9cc1-af32318f7134",
   "metadata": {},
   "source": [
    "That's it!"
   ]
  },
  {
   "cell_type": "code",
   "execution_count": null,
   "id": "5ddf015b-e9e1-47b7-955c-35dfeb860233",
   "metadata": {},
   "outputs": [],
   "source": [
    "#By default a new integer index is created.  Can use the RGI ID as our index\n",
    "#rgi_gdf = rgi_gdf.set_index('RGIId')"
   ]
  },
  {
   "cell_type": "markdown",
   "id": "c91028fc-ad32-4e7b-8d6c-81cff7086ae9",
   "metadata": {},
   "source": [
    "## Create a quick plot"
   ]
  },
  {
   "cell_type": "code",
   "execution_count": null,
   "id": "699dc514-cec3-4899-9cec-6b3ff01fc38a",
   "metadata": {},
   "outputs": [],
   "source": [
    "#rgi_gdf.explore()"
   ]
  },
  {
   "cell_type": "code",
   "execution_count": null,
   "id": "c41a3a43-7640-40ee-a771-d4bc9f41d70e",
   "metadata": {},
   "outputs": [],
   "source": [
    "world = gpd.read_file(gpd.datasets.get_path('naturalearth_lowres'))\n",
    "ax = world.plot(alpha=0.2)\n",
    "states_gdf.plot(ax=ax, facecolor='none', edgecolor='0.5', linewidth=0.5)\n",
    "rgi_gdf.plot(ax=ax, edgecolor='k', linewidth=0.5);"
   ]
  },
  {
   "cell_type": "markdown",
   "id": "f433bbf3-d8e6-4349-83af-232a9ccf65e6",
   "metadata": {},
   "source": [
    "## Clip RGI polygons to WA state\n",
    "GeoPandas makes spatial selection easy.  \n",
    "\n",
    "We'll have two options: 1) using a bounding box, and 2) using an arbitrary polygon."
   ]
  },
  {
   "cell_type": "markdown",
   "id": "af6ddfe9-49ee-47c1-8001-cf041c5e4b05",
   "metadata": {},
   "source": [
    "#### 1. Bounding box"
   ]
  },
  {
   "cell_type": "code",
   "execution_count": null,
   "id": "5bb1424c-5a90-447c-b89c-1edb731af5fd",
   "metadata": {},
   "outputs": [],
   "source": [
    "xmin, ymin, xmax, ymax = wa_gdf.to_crs('EPSG:4326').total_bounds"
   ]
  },
  {
   "cell_type": "markdown",
   "id": "938765be-4e98-42c9-8d22-a89f670ead28",
   "metadata": {},
   "source": [
    "#### Create new GeoDataFrame from output of simple spatial filter with GeoPandas `cx` function\n",
    "* https://geopandas.org/indexing.html"
   ]
  },
  {
   "cell_type": "code",
   "execution_count": null,
   "id": "f12789e7-4585-43c7-92f4-070ddb159e69",
   "metadata": {},
   "outputs": [],
   "source": [
    "rgi_gdf_wa = rgi_gdf.cx[xmin:xmax, ymin:ymax]"
   ]
  },
  {
   "cell_type": "code",
   "execution_count": null,
   "id": "a264287e-2a32-4700-a2fe-3960342371ed",
   "metadata": {},
   "outputs": [],
   "source": [
    "print(\"Number of RGI polygons before:\",rgi_gdf.shape[0])\n",
    "rgi_gdf_wa = rgi_gdf[rgi_gdf_idx]\n",
    "print(\"Number of RGI polygons after:\", rgi_gdf_wa.shape[0])"
   ]
  },
  {
   "cell_type": "markdown",
   "id": "bdf35b70-d2e7-4c62-b743-2b9ba9e4fb77",
   "metadata": {},
   "source": [
    "#### Quick plot to verify"
   ]
  },
  {
   "cell_type": "code",
   "execution_count": null,
   "id": "09253ae3-af8f-48ac-8cb2-61c7614cda37",
   "metadata": {},
   "outputs": [],
   "source": [
    "rgi_gdf_wa.plot(edgecolor='k', linewidth=0.5);"
   ]
  },
  {
   "cell_type": "markdown",
   "id": "c8c42f0c-d791-49bd-b9aa-80234346a44c",
   "metadata": {},
   "source": [
    "#### 2. Clip points to arbitrary Polygon geometry"
   ]
  },
  {
   "cell_type": "code",
   "execution_count": null,
   "id": "0654a959-9d52-43a4-a4b7-b3287b316f34",
   "metadata": {},
   "outputs": [],
   "source": [
    "wa_gdf_chull = wa_gdf.to_crs('EPSG:4326').unary_union.convex_hull"
   ]
  },
  {
   "cell_type": "code",
   "execution_count": null,
   "id": "e4369163-8830-43d2-9cfa-cac54051f6fc",
   "metadata": {},
   "outputs": [],
   "source": [
    "#Check the type\n",
    "type(wa_gdf_chull)"
   ]
  },
  {
   "cell_type": "markdown",
   "id": "ccf132b6-f020-470d-8173-a6185aac2eb1",
   "metadata": {},
   "source": [
    "#### Preview geometry\n",
    "Note that geometry objects (points, lines, polygons, etc.) will render directly in the Jupyter notebook!  Great for quick previews."
   ]
  },
  {
   "cell_type": "code",
   "execution_count": null,
   "id": "dd014863-72b8-46c1-90c7-39159d9a6bc0",
   "metadata": {},
   "outputs": [],
   "source": [
    "wa_gdf_chull"
   ]
  },
  {
   "cell_type": "code",
   "execution_count": null,
   "id": "9ef7a595-ab0d-44fc-99d9-86eef48594a6",
   "metadata": {},
   "outputs": [],
   "source": [
    "print(wa_gdf_chull)"
   ]
  },
  {
   "cell_type": "markdown",
   "id": "4c265266-ff06-45b3-85eb-11fbd3cbc2be",
   "metadata": {},
   "source": [
    "#### Compute intersection between all RGI polygons and the convex hull\n",
    "Use the GeoDataFrame `intersects()` function.  \n",
    "This will return a Boolean DataSeries, True if points intersect the polygon, False if they do not"
   ]
  },
  {
   "cell_type": "code",
   "execution_count": null,
   "id": "ad5a025a-9900-41e3-b322-9e7aa21b0dc7",
   "metadata": {},
   "outputs": [],
   "source": [
    "rgi_gdf_idx = rgi_gdf.intersects(wa_gdf_chull)"
   ]
  },
  {
   "cell_type": "code",
   "execution_count": null,
   "id": "57a0f9d6-0dfc-4872-97ef-04042aed6ba4",
   "metadata": {},
   "outputs": [],
   "source": [
    "rgi_gdf_idx"
   ]
  },
  {
   "cell_type": "markdown",
   "id": "42ba10a5-f24f-4fc7-8836-56d86a439353",
   "metadata": {},
   "source": [
    "#### Extract records with True for the intersection"
   ]
  },
  {
   "cell_type": "code",
   "execution_count": null,
   "id": "c9c6205c-6b9f-49ac-b220-801eb8fb172b",
   "metadata": {},
   "outputs": [],
   "source": [
    "print(\"Number of RGI polygons before:\",rgi_gdf.shape[0])\n",
    "rgi_gdf_wa = rgi_gdf[rgi_gdf_idx]\n",
    "print(\"Number of RGI polygons after:\", rgi_gdf_wa.shape[0])"
   ]
  },
  {
   "cell_type": "markdown",
   "id": "cdaa5c50-02af-4b7e-8fae-9ad3f49606b2",
   "metadata": {},
   "source": [
    "#### Quick plot to verify\n",
    "Note latitude range"
   ]
  },
  {
   "cell_type": "code",
   "execution_count": null,
   "id": "1efcabdf-0516-476f-bc45-2746034362a6",
   "metadata": {},
   "outputs": [],
   "source": [
    "rgi_gdf_wa.plot(edgecolor='k', linewidth=0.5);"
   ]
  },
  {
   "cell_type": "code",
   "execution_count": null,
   "id": "db47dca0-2e5d-4332-8bd4-3eac9ed60d89",
   "metadata": {},
   "outputs": [],
   "source": [
    "rgi_gdf_wa.explore()"
   ]
  },
  {
   "cell_type": "code",
   "execution_count": null,
   "id": "90187424-476e-4e67-b411-5ed714f3fd8d",
   "metadata": {},
   "outputs": [],
   "source": [
    "rgi_gdf_wa_aea = rgi_gdf_wa.to_crs(aea_crs)"
   ]
  },
  {
   "cell_type": "code",
   "execution_count": null,
   "id": "1b8978fe-5546-44ed-a5e3-1b907ee62271",
   "metadata": {},
   "outputs": [],
   "source": [
    "rgi_gdf_wa_aea.geometry.centroid.x"
   ]
  },
  {
   "cell_type": "code",
   "execution_count": null,
   "id": "0f163623-754c-4e1d-b516-2420993a78ef",
   "metadata": {},
   "outputs": [],
   "source": [
    "f, ax = plt.subplots(figsize=(6,6))\n",
    "x = rgi_gdf_wa_aea.geometry.centroid.x\n",
    "y = rgi_gdf_wa_aea.geometry.centroid.y\n",
    "hb = ax.hexbin(x, y, gridsize=20, mincnt=1)\n",
    "ax.set_aspect('equal')"
   ]
  },
  {
   "cell_type": "markdown",
   "id": "017d44d8-baba-4d3b-b5a0-08fea2354c9c",
   "metadata": {
    "tags": []
   },
   "source": [
    "## Merge GLAS points and RGI polygons"
   ]
  },
  {
   "cell_type": "markdown",
   "id": "9c9d85b1-7375-44b2-aec5-300f0f7d62d3",
   "metadata": {},
   "source": [
    "Earlier we computed some statistics for the full CONUS GLAS sample and hex bins.  Now let's analyze the GLAS points that intersect each RGI glacier polygon. \n",
    "\n",
    "One approach would be to loop through each glacier polygon, and do an intersection operation with all points.  But this is inefficient, and doesn't scale well.  It is much more efficient to do a spatial join between the points and the polygons, then groupby and aggregate to compute the relevant statistics for all points that intersect each glacier polygon.\n",
    "\n",
    "You may have learned how to perform a join or spatial join in a GIS course.  So, do we need to open ArcMap or QGIS here?  Do we need a full-fledged spatial database like PostGIS?  No!  GeoPandas has you covered.\n",
    "\n",
    "* Start by reviewing the Spatial Join documentation here: http://geopandas.org/mergingdata.html\n",
    "* Use the geopandas `sjoin` method: http://geopandas.org/reference/geopandas.sjoin.html"
   ]
  },
  {
   "cell_type": "markdown",
   "id": "64e5cc70-8a07-4bf3-84dc-a2ddceb071c4",
   "metadata": {
    "tags": []
   },
   "source": [
    "## First, we need to make sure all inputs have the same projection\n",
    "* Reproject the RGI polygons to match our point CRS (custom Albers Equal-area)"
   ]
  },
  {
   "cell_type": "code",
   "execution_count": null,
   "id": "317d4b2f-b279-4495-927c-7816a0fdd796",
   "metadata": {},
   "outputs": [],
   "source": [
    "glas_gdf_aea.crs"
   ]
  },
  {
   "cell_type": "code",
   "execution_count": null,
   "id": "16141155-42cc-4304-ba82-bb3fd7d56439",
   "metadata": {},
   "outputs": [],
   "source": [
    "rgi_gdf_wa_aea.crs"
   ]
  },
  {
   "cell_type": "markdown",
   "id": "1e7b19aa-aa2c-4691-a105-5f47443df3a4",
   "metadata": {},
   "source": [
    "### Optional: isolate relevant columns to simplify our output"
   ]
  },
  {
   "cell_type": "code",
   "execution_count": null,
   "id": "bc0bfba3-9b39-4dee-9456-6d49d30a44cf",
   "metadata": {},
   "outputs": [],
   "source": [
    "glas_gdf_aea.columns"
   ]
  },
  {
   "cell_type": "code",
   "execution_count": null,
   "id": "01bea698-a9f9-454a-a706-bae52aa30398",
   "metadata": {},
   "outputs": [],
   "source": [
    "rgi_gdf_wa_aea.columns"
   ]
  },
  {
   "cell_type": "code",
   "execution_count": null,
   "id": "36a73f30-49b5-4acd-a2f8-1386d11cdd84",
   "metadata": {},
   "outputs": [],
   "source": [
    "glas_col = ['decyear', 'glas_z', 'geometry']\n",
    "rgi_col = ['RGIId', 'Area', 'Name', 'geometry']\n",
    "\n",
    "glas_gdf_aea_lite = glas_gdf_aea[glas_col]\n",
    "rgi_gdf_wa_aea_lite = rgi_gdf_wa_aea[rgi_col]"
   ]
  },
  {
   "cell_type": "code",
   "execution_count": null,
   "id": "5881e1fa-bb8e-4f56-9a33-788ea2b4d8ae",
   "metadata": {},
   "outputs": [],
   "source": [
    "glas_gdf_aea_lite"
   ]
  },
  {
   "cell_type": "code",
   "execution_count": null,
   "id": "32b63cbe-6e33-4c04-83db-62d10fb2bf53",
   "metadata": {},
   "outputs": [],
   "source": [
    "rgi_gdf_wa_aea_lite"
   ]
  },
  {
   "cell_type": "markdown",
   "id": "92358ab4-f527-442e-986b-e4fd29cc8622",
   "metadata": {},
   "source": [
    "## Now try a spatial join between these two \n",
    "* Use the GLAS points as the \"left\" GeoDataFrame and the RGI polygons as the \"right\" GeoDataFrame\n",
    "* Start by using default options (`op='intersects', how='inner'`)\n",
    "* Note the output geometry type and columns"
   ]
  },
  {
   "cell_type": "code",
   "execution_count": null,
   "id": "51e0bf6c-2075-4b3d-8c10-8893e470edf3",
   "metadata": {},
   "outputs": [],
   "source": [
    "glas_gdf_aea_rgi = gpd.sjoin(glas_gdf_aea_lite, rgi_gdf_wa_aea_lite)\n",
    "glas_gdf_aea_rgi"
   ]
  },
  {
   "cell_type": "markdown",
   "id": "22d880cd-603c-407f-b481-11ed301624cf",
   "metadata": {},
   "source": [
    "## Check number of records"
   ]
  },
  {
   "cell_type": "code",
   "execution_count": null,
   "id": "b183a258-15e8-4d9c-8cde-b118b512ae8c",
   "metadata": {},
   "outputs": [],
   "source": [
    "print(\"Number of RGI polygons before:\", rgi_gdf_wa_aea_lite.shape[0])\n",
    "print(\"Number of GLAS points before:\", glas_gdf_aea.shape[0])\n",
    "print(\"Number of GLAS points that intersect RGI polygons:\", glas_gdf_aea_rgi.shape[0])"
   ]
  },
  {
   "cell_type": "markdown",
   "id": "2b150e87-271e-4d8f-9918-5005de3d95da",
   "metadata": {},
   "source": [
    "## Check number of GLAS points per RGI polygon"
   ]
  },
  {
   "cell_type": "code",
   "execution_count": null,
   "id": "5d6b4d72-ccbc-4bce-b908-805979642d5f",
   "metadata": {},
   "outputs": [],
   "source": [
    "glas_gdf_aea_rgi['RGIId'].value_counts()"
   ]
  },
  {
   "cell_type": "markdown",
   "id": "7f00a21a-3d17-4868-9a57-f9222d2526cc",
   "metadata": {},
   "source": [
    "## Which glacier has the greatest number of points?\n",
    "\n",
    "Some notes on indexing and selecting from Pandas DataFrame: http://pandas.pydata.org/pandas-docs/stable/user_guide/indexing.html\n",
    "\n",
    "https://www.shanelynn.ie/select-pandas-dataframe-rows-and-columns-using-iloc-loc-and-ix/\n",
    "\n",
    "Here we'll use the `iloc` function to pull out the record for the RGIId key with the highest point count."
   ]
  },
  {
   "cell_type": "code",
   "execution_count": null,
   "id": "a6508893-9ed7-486c-88e1-2086bc6eb18f",
   "metadata": {},
   "outputs": [],
   "source": [
    "label = glas_gdf_aea_rgi['RGIId'].value_counts().index[0]\n",
    "print(label)"
   ]
  },
  {
   "cell_type": "code",
   "execution_count": null,
   "id": "fce9a5fa-e9e5-455d-afc7-582004bd24a2",
   "metadata": {},
   "outputs": [],
   "source": [
    "rgi_maxcount = rgi_gdf_wa_aea_lite[rgi_gdf_wa_aea_lite['RGIId'] == label].iloc[0]\n",
    "rgi_maxcount"
   ]
  },
  {
   "cell_type": "code",
   "execution_count": null,
   "id": "b23ebed6-de7b-4842-9afc-0a9c52438ec0",
   "metadata": {},
   "outputs": [],
   "source": [
    "rgi_maxcount.geometry"
   ]
  },
  {
   "cell_type": "code",
   "execution_count": null,
   "id": "b36cda0a-af56-486f-9ad5-d45cdd1cfc8e",
   "metadata": {},
   "outputs": [],
   "source": [
    "glas_gdf_aea_rgi.explore()"
   ]
  },
  {
   "cell_type": "code",
   "execution_count": null,
   "id": "1bb79d94-ab5a-4a3a-b92f-e79dfed8d9de",
   "metadata": {},
   "outputs": [],
   "source": []
  }
 ],
 "metadata": {
  "kernelspec": {
   "display_name": "Python 3 (ipykernel)",
   "language": "python",
   "name": "python3"
  },
  "language_info": {
   "codemirror_mode": {
    "name": "ipython",
    "version": 3
   },
   "file_extension": ".py",
   "mimetype": "text/x-python",
   "name": "python",
   "nbconvert_exporter": "python",
   "pygments_lexer": "ipython3",
   "version": "3.9.7"
  }
 },
 "nbformat": 4,
 "nbformat_minor": 5
}
