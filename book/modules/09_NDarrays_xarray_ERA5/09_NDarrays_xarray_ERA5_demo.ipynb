{
 "cells": [
  {
   "cell_type": "markdown",
   "id": "613a88b0-c3a2-442c-982f-05aa1d0a455d",
   "metadata": {},
   "source": [
    "# 09 Introduction: Multidimensional (N-d) arrays, xarray, ERA5 climate reanalysis data\n",
    "\n",
    "UW Geospatial Data Analysis  \n",
    "CEE498/CEWA599  \n",
    "David Shean  "
   ]
  },
  {
   "cell_type": "markdown",
   "id": "8fdb482b-118b-45fe-bff7-d15b4caeace8",
   "metadata": {},
   "source": [
    "## Introduction\n",
    "\n",
    "This week we are going to do some basic analysis of climate reanalysis data. This could be useful for some of your projects, especially if considering time series data.\n",
    "\n",
    "We will use a few different products from the state-of-the-art global ERA5 reanalysis, which currently span 1950-present with hourly timestep at up to a 9 km resolution.\n",
    "\n",
    "We will use xarray to open, combine, analyze and plot the data."
   ]
  },
  {
   "cell_type": "markdown",
   "id": "7489d4bd-a0f9-486b-8a9c-e6dacb0d361a",
   "metadata": {},
   "source": [
    "## xarray\n",
    "\n",
    "Take a moment to review this high-level introduction:\n",
    "* http://xarray.pydata.org/en/stable/why-xarray.html\n",
    "\n",
    ">\"xarray (formerly xray) is an open source project and Python package that makes working with labelled multi-dimensional arrays simple, efficient, and fun!\n",
    "\n",
    ">Xarray introduces **labels** in the form of dimensions, coordinates and attributes on top of raw NumPy-like arrays, which allows for a more intuitive, more concise, and less error-prone developer experience. The package includes a large and growing library of domain-agnostic functions for advanced analytics and visualization with these data structures.\n",
    "\n",
    ">Xarray is inspired by and borrows heavily from pandas, the popular data analysis package focused on labelled tabular data. It is particularly tailored to working with netCDF files, which were the source of xarray’s data model, and integrates tightly with dask for parallel computing.\"\n",
    "\n",
    "Remember back to Lab03, when you tried to extract a column of elevation values from a 2D NumPy array, with something like `myarray[:,4]`?  And then how much easier it was to do the same thing with a labeled pandas DataFrame `mydf['glas_z']`? Same deal here, just extended beyond 2D.\n",
    "\n",
    "Why?\n",
    "* Excellent choice for working with large datasets, as it uses lazy evaluation and parallel processing with Dask: http://xarray.pydata.org/en/stable/dask.html#\n",
    "* Lots of great tutorials and resources: https://xarray.pydata.org/en/stable/tutorials-and-videos.html\n",
    "* Big user community\n",
    "* Some feel it should be the defacto Python data science object: https://xarray.pydata.org/en/stable/getting-started-guide/why-xarray.html#goals-and-aspirations\n",
    "\n",
    "Why not?\n",
    "* General means complicated\n",
    "* Steep learning curve, esp for new users unfamiliar with Pandas\n",
    "* Sometimes overkill for simple problems"
   ]
  },
  {
   "cell_type": "markdown",
   "id": "105d1a35-d351-4e0e-b94a-667aac535905",
   "metadata": {},
   "source": [
    "## xarray data model overview\n",
    "So, what's an nD array? (https://docs.scipy.org/doc/numpy-1.13.0/reference/arrays.ndarray.html)  You've been using them all quarter, but mostly 1D and 2D NumPy arrays.  \n",
    "\n",
    "As with many of the packages we've covered this quarter, vocabulary can be one of the biggest blocks to learning.  Let's discuss.\n",
    "\n",
    "![xarray image with labels](http://matthewrocklin.com/blog/images/xarray-boxes-2.png)\n",
    "(http://xarray.pydata.org/en/latest/data-structures.html#dataset)"
   ]
  },
  {
   "cell_type": "markdown",
   "id": "9c9e82a1-50ba-4552-b115-db97951db953",
   "metadata": {
    "tags": []
   },
   "source": [
    "### Comparison with Pandas\n",
    "\n",
    "Pandas is very good at handling 2D tabular datasets (e.g., csv with columns and rows, time series of met station variables from a single station [T, precip, etc]) or a single variable across multiple stations.  \n",
    "* \"If your data fits nicely into a pandas DataFrame then you’re better off using one of the more developed tools there.\" (https://xarray.pydata.org/en/latest/user-guide/plotting.html)\n",
    "* https://xarray.pydata.org/en/stable/getting-started-guide/faq.html#should-i-use-xarray-instead-of-pandas\n",
    "* \"pandas excels at working with tabular data. That suffices for many statistical analyses, but physical scientists rely on N-dimensional arrays – which is where xarray comes in.\" (http://xarray.pydata.org/en/stable/why-xarray.html#goals-and-aspirations)\n",
    "\n",
    "xarray extends the Pandas functionality to support 3+ dimensions (e.g., time series of 2D rasters).\n",
    "\n",
    "#### xarray is to Pandas...\n",
    "\n",
    "* xarray DataArray : Pandas DataSeries\n",
    "* xarray DataSet : Pandas DataFrame"
   ]
  },
  {
   "cell_type": "markdown",
   "id": "f7fc0670-c822-4fd9-a816-41086ba1ea1f",
   "metadata": {},
   "source": [
    "## Terminology\n",
    "* https://xarray.pydata.org/en/stable/user-guide/terminology.html\n",
    "* https://xarray.pydata.org/en/latest/user-guide/data-structures.html#data-structures\n",
    "\n",
    "### DataArray\n",
    "Four essential pieces:\n",
    "* `values`: a numpy.ndarrays with actual data values (e.g., ('t2m', 'tp')\n",
    "* `dims`: dimension names for each axis (e.g., ('lon', 'lat', 'time'))\n",
    "* `coords`: a dict-like container of arrays (coordinates) that label each point (e.g., 1-dimensional arrays of numbers, datetime objects or strings)\n",
    "* `attrs`: an OrderedDict containing additional metadata (attributes)\n",
    "\n",
    "### Dataset\n",
    "* Essentially, a collection of DataArrays (like a dictionary of DataArrays)\n",
    "* http://xarray.pydata.org/en/latest/data-structures.html#dataset\n",
    "\n",
    "Notes:\n",
    "* One value in one of the contained arrays (say a single temperature measurement) usually has multiple coordinates ('lon', 'lat', 'time')"
   ]
  },
  {
   "cell_type": "markdown",
   "id": "63faeae5-1f8b-463b-8e47-6fc6f4bb99a3",
   "metadata": {},
   "source": [
    "### Useful xarray examples and references\n",
    "* Indexing and selection: https://xarray.pydata.org/en/stable/user-guide/indexing.html\n",
    "* Plotting: https://xarray.pydata.org/en/stable/user-guide/plotting.html\n",
    "* Visualization examples: http://xarray.pydata.org/en/stable/examples/visualization_gallery.html\n",
    "* Time-series analysis: https://xarray.pydata.org/en/stable/user-guide/time-series.html\n",
    "* https://rabernat.github.io/research_computing/xarray.html"
   ]
  },
  {
   "cell_type": "markdown",
   "id": "0305ce2c-b836-437a-a207-7a673938b9de",
   "metadata": {},
   "source": [
    "## netCDF format\n",
    "Much of the xarray design and functionality is derived from the NetCDF project:\n",
    "\n",
    ">\"NetCDF (Network Common Data Form) is a set of software libraries and machine-independent data formats that support the creation, access, and sharing of array-oriented scientific data. It is also a community standard for sharing scientific data.\" [https://www.unidata.ucar.edu/software/netcdf/]\n",
    "\n",
    ">\"Data in netCDF format is:\n",
    ">* Self-Describing. A netCDF file includes information about the data it contains.\n",
    ">* Portable. A netCDF file can be accessed by computers with different ways of storing integers, characters, and floating-point numbers.\n",
    ">* Scalable. Small subsets of large datasets in various formats may be accessed efficiently through netCDF interfaces, even from remote servers.\n",
    ">* Appendable. Data may be appended to a properly structured netCDF file without copying the dataset or redefining its structure.\n",
    ">* Sharable. One writer and multiple readers may simultaneously access the same netCDF file.\n",
    ">* Archivable. Access to all earlier forms of netCDF data will be supported by current and future versions of the software.\"\n",
    "\n",
    "\n",
    ">\"Commonly used in climatology, meteorology and oceanography applications (e.g., weather forecasting, climate change) and GIS applications.\" [https://en.wikipedia.org/wiki/NetCDF]"
   ]
  },
  {
   "cell_type": "code",
   "execution_count": null,
   "id": "6c08b3aa-d43b-4641-b223-8ff0d364f862",
   "metadata": {},
   "outputs": [],
   "source": [
    "import xarray as xr\n",
    "import os\n",
    "import geopandas as gpd\n",
    "import pandas as pd\n",
    "import numpy as np\n",
    "import matplotlib.pyplot as plt"
   ]
  },
  {
   "cell_type": "markdown",
   "id": "d73a6465-6dda-4102-abbf-d61a32ab2d33",
   "metadata": {},
   "source": [
    "## Demo: Create simple DataArray\n",
    "* From https://xarray.pydata.org/en/latest/user-guide/data-structures.html#data-structures"
   ]
  },
  {
   "cell_type": "code",
   "execution_count": null,
   "id": "134ea712-7c98-42c4-94f0-b0b5c4637b81",
   "metadata": {},
   "outputs": [],
   "source": [
    "data = np.random.rand(4, 3)"
   ]
  },
  {
   "cell_type": "code",
   "execution_count": null,
   "id": "0b781cba-b66c-44f6-ae47-26f33c3405aa",
   "metadata": {},
   "outputs": [],
   "source": [
    "xr.DataArray(data)"
   ]
  },
  {
   "cell_type": "code",
   "execution_count": null,
   "id": "593b715f-9bd8-4c3f-9d82-f822188e4aed",
   "metadata": {},
   "outputs": [],
   "source": [
    "locs = [\"IA\", \"IL\", \"IN\"]"
   ]
  },
  {
   "cell_type": "code",
   "execution_count": null,
   "id": "a128cada-861b-4298-bb3e-fe0c99601af4",
   "metadata": {},
   "outputs": [],
   "source": [
    "times = pd.date_range(\"2000-01-01\", periods=4)\n",
    "times"
   ]
  },
  {
   "cell_type": "code",
   "execution_count": null,
   "id": "c3dde57d-3b7f-45a4-9638-c4e3d9a6383c",
   "metadata": {},
   "outputs": [],
   "source": [
    "foo = xr.DataArray(data, coords=[times, locs], dims=[\"time\", \"space\"])"
   ]
  },
  {
   "cell_type": "code",
   "execution_count": null,
   "id": "59d63e5c-2c87-4879-879f-dc044a93bf0b",
   "metadata": {},
   "outputs": [],
   "source": [
    "foo"
   ]
  },
  {
   "cell_type": "markdown",
   "id": "f82940ce-b32f-42ca-b681-e489a40c0803",
   "metadata": {},
   "source": [
    "### Indexing"
   ]
  },
  {
   "cell_type": "code",
   "execution_count": null,
   "id": "3fe6a847-759c-490e-b4ee-2250583b80e7",
   "metadata": {},
   "outputs": [],
   "source": [
    "foo[0, :]"
   ]
  },
  {
   "cell_type": "code",
   "execution_count": null,
   "id": "27f72f97-0aae-452b-ad3d-3ac05aff2b36",
   "metadata": {},
   "outputs": [],
   "source": [
    "foo.loc['2000-01-03']"
   ]
  },
  {
   "cell_type": "code",
   "execution_count": null,
   "id": "48fa3fad-1463-4af4-9ed5-1d544bcb7bb8",
   "metadata": {},
   "outputs": [],
   "source": [
    "foo.isel(time=3)"
   ]
  },
  {
   "cell_type": "code",
   "execution_count": null,
   "id": "6b3ab3a0-19c0-402c-9dc9-ce810f6a4792",
   "metadata": {},
   "outputs": [],
   "source": [
    "foo.sel(time='2000-01-03')"
   ]
  },
  {
   "cell_type": "markdown",
   "id": "e1da5115-65b3-4b0c-816a-6aa20ff899ee",
   "metadata": {},
   "source": [
    "## Demo: Create xarray DataSet from SNOTEL data"
   ]
  },
  {
   "cell_type": "code",
   "execution_count": null,
   "id": "76a7e4f7-6b49-47fc-8206-4a8faf0e9494",
   "metadata": {},
   "outputs": [],
   "source": [
    "snotel_datadir = '../08_Vector_TimeSeries_SNOTEL'"
   ]
  },
  {
   "cell_type": "code",
   "execution_count": null,
   "id": "51eab86e-c891-4f98-9a11-55781583af99",
   "metadata": {},
   "outputs": [],
   "source": [
    "sites_fn = os.path.join(snotel_datadir, 'snotel_conus_sites.json')\n",
    "#singlesite_pkl_fn = 'SNOTEL-SNWD_D_679_WA_SNTL.pkl'\n",
    "allsites_SNWD_pkl_fn = os.path.join(snotel_datadir, 'SNOTEL-SNWD_D_CONUS_all.pkl')\n",
    "allsites_WTEQ_pkl_fn = os.path.join(snotel_datadir, 'SNOTEL-WTEQ_D_CONUS_all.pkl')"
   ]
  },
  {
   "cell_type": "code",
   "execution_count": null,
   "id": "b683a535-4c19-4a32-acc2-4885cd40bdd4",
   "metadata": {},
   "outputs": [],
   "source": [
    "sites_gdf_all = gpd.read_file(sites_fn).set_index('index')\n",
    "allsites_snwd_df = pd.read_pickle(allsites_SNWD_pkl_fn).dropna(axis=0, how='all')\n",
    "allsites_wteq_df = pd.read_pickle(allsites_WTEQ_pkl_fn).dropna(axis=0, how='all')"
   ]
  },
  {
   "cell_type": "code",
   "execution_count": null,
   "id": "9a2c700c-5dd4-4fec-bd65-9c82a50cb110",
   "metadata": {},
   "outputs": [],
   "source": [
    "#allsites_snwd_df.to_xarray()"
   ]
  },
  {
   "cell_type": "code",
   "execution_count": null,
   "id": "dbd7095b-c5de-4574-adde-5bc3cf172b39",
   "metadata": {},
   "outputs": [],
   "source": [
    "allsites_snwd_df"
   ]
  },
  {
   "cell_type": "code",
   "execution_count": null,
   "id": "3aa7ffc1-c7f3-4a12-8471-3c4f73f4c1fe",
   "metadata": {},
   "outputs": [],
   "source": [
    "allsites_wteq_df = pd.read_pickle(allsites_WTEQ_pkl_fn)"
   ]
  },
  {
   "cell_type": "code",
   "execution_count": null,
   "id": "cc533432-5c59-45a2-8faa-6fc2c2bce63e",
   "metadata": {},
   "outputs": [],
   "source": [
    "allsites_wteq_df"
   ]
  },
  {
   "cell_type": "markdown",
   "id": "e3d8e8f7-16a9-4c37-900f-97af1b9b8854",
   "metadata": {},
   "source": [
    "###  Note difference in number of records and columns\n",
    "* Some stations have one but not the other\n",
    "* WTEQ extends farther back in time"
   ]
  },
  {
   "cell_type": "code",
   "execution_count": null,
   "id": "c08e3e99-2aa7-481a-99aa-a050e4c2e0e2",
   "metadata": {},
   "outputs": [],
   "source": [
    "def get_DataArray(df, sites, name=\"SNWD_D\"):\n",
    "    valid_sites = sites.loc[df.columns]\n",
    "    \n",
    "    site_id = valid_sites.index.values\n",
    "    lon = valid_sites.geometry.x.values\n",
    "    lat = valid_sites.geometry.y.values\n",
    "    elev = valid_sites.elevation_m.values\n",
    "    site_name = valid_sites.name.values\n",
    "    \n",
    "    da = xr.DataArray(df, dims=(\"time\", \"site_id\"), name=name)\n",
    "    #For some reason, the times are not read as datetime64 objects, so reassign\n",
    "    da[\"time\"] = df.index.values\n",
    "    da = da.assign_coords(lon=(\"site_id\", lon), lat=(\"site_id\", lat), elev=(\"site_id\", elev))\n",
    "    return da"
   ]
  },
  {
   "cell_type": "code",
   "execution_count": null,
   "id": "d57e380b-783f-4489-bde0-813ca80e2e51",
   "metadata": {},
   "outputs": [],
   "source": [
    "snwd_da = get_DataArray(allsites_snwd_df, sites_gdf_all, name=\"SNWD_D\")"
   ]
  },
  {
   "cell_type": "code",
   "execution_count": null,
   "id": "3db37735-ad4f-4785-9b6d-ef08357745d2",
   "metadata": {},
   "outputs": [],
   "source": [
    "snwd_da"
   ]
  },
  {
   "cell_type": "code",
   "execution_count": null,
   "id": "6bdf63aa-115f-4fc7-b786-d2f144dd5a24",
   "metadata": {},
   "outputs": [],
   "source": [
    "snwd_da.attrs['description'] = 'SNOTEL snow depth measurements'"
   ]
  },
  {
   "cell_type": "code",
   "execution_count": null,
   "id": "d6a869f0-8ba6-4c07-8ec1-bd5e7a685374",
   "metadata": {},
   "outputs": [],
   "source": [
    "snwd_da.attrs['units'] = 'inches'"
   ]
  },
  {
   "cell_type": "code",
   "execution_count": null,
   "id": "8568aaa3-f2bd-4479-bab3-e7bfaf3fdffe",
   "metadata": {},
   "outputs": [],
   "source": [
    "snwd_da"
   ]
  },
  {
   "cell_type": "code",
   "execution_count": null,
   "id": "ba67d553-1b67-4fda-83b6-46939f494cd6",
   "metadata": {},
   "outputs": [],
   "source": [
    "wteq_da = get_DataArray(allsites_wteq_df, sites_gdf_all, name=\"WTEQ_D\")"
   ]
  },
  {
   "cell_type": "code",
   "execution_count": null,
   "id": "c574feba-15b5-476e-b622-9f699e35228b",
   "metadata": {},
   "outputs": [],
   "source": [
    "wteq_da"
   ]
  },
  {
   "cell_type": "code",
   "execution_count": null,
   "id": "d33f4233-eb1d-420d-9d8b-3be9e8e0d3b3",
   "metadata": {},
   "outputs": [],
   "source": [
    "wteq_da.attrs['units'] = 'inches w.e.'\n",
    "wteq_da.attrs['description'] = 'SNOTEL snow water equivalent measurements'"
   ]
  },
  {
   "cell_type": "code",
   "execution_count": null,
   "id": "c8670182-aa6e-4426-beb4-da9ed7814d3e",
   "metadata": {},
   "outputs": [],
   "source": [
    "wteq_da"
   ]
  },
  {
   "cell_type": "markdown",
   "id": "a16dee9f-c839-4a9a-ba78-e83e71962f70",
   "metadata": {},
   "source": [
    "### Merge the two DataArrays into a single DataSet"
   ]
  },
  {
   "cell_type": "code",
   "execution_count": null,
   "id": "c5a64477-4fb5-4d37-9628-4b6bde8d9c13",
   "metadata": {},
   "outputs": [],
   "source": [
    "ds = xr.merge([snwd_da, wteq_da])"
   ]
  },
  {
   "cell_type": "code",
   "execution_count": null,
   "id": "aa9c7355-9c05-422b-a78e-3ef4aed02e1f",
   "metadata": {},
   "outputs": [],
   "source": [
    "ds.attrs = {}"
   ]
  },
  {
   "cell_type": "code",
   "execution_count": null,
   "id": "65244f2a-13c7-48a3-93e7-43dd426889d1",
   "metadata": {},
   "outputs": [],
   "source": [
    "ds"
   ]
  },
  {
   "cell_type": "markdown",
   "id": "924c754f-f37e-4ddb-bcec-17f9087c34bd",
   "metadata": {},
   "source": [
    "### Write out as NetCDF file\n",
    "* Better than random pickle file"
   ]
  },
  {
   "cell_type": "code",
   "execution_count": null,
   "id": "078fb05b-41d3-4a88-9527-d046eeb095f7",
   "metadata": {},
   "outputs": [],
   "source": [
    "out_fn = os.path.join(snotel_datadir, 'SNOTEL_CONUS_all.nc')"
   ]
  },
  {
   "cell_type": "code",
   "execution_count": null,
   "id": "13b8e8ba-be00-4054-bb92-f2eb6886dfb4",
   "metadata": {},
   "outputs": [],
   "source": [
    "ds.to_netcdf(out_fn)"
   ]
  },
  {
   "cell_type": "code",
   "execution_count": null,
   "id": "08e3b351-716b-4999-9ced-fdff7960fedc",
   "metadata": {},
   "outputs": [],
   "source": [
    "reopened = xr.open_dataset(out_fn)"
   ]
  },
  {
   "cell_type": "code",
   "execution_count": null,
   "id": "1ca68040-3956-41a1-a9b8-74fef33b067b",
   "metadata": {},
   "outputs": [],
   "source": [
    "reopened"
   ]
  },
  {
   "cell_type": "markdown",
   "id": "707ce853-3b9e-4d4e-823a-5ad1cd0dce93",
   "metadata": {},
   "source": [
    "## Isolate one site"
   ]
  },
  {
   "cell_type": "code",
   "execution_count": null,
   "id": "cbd1f043-aa66-4ae2-9315-cfa0a5680e45",
   "metadata": {},
   "outputs": [],
   "source": [
    "sitecode = 'SNOTEL:679_WA_SNTL'"
   ]
  },
  {
   "cell_type": "code",
   "execution_count": null,
   "id": "9ddc0817-2e7e-466e-b3fe-6d1063af1ade",
   "metadata": {},
   "outputs": [],
   "source": [
    "ds.sel(site_id=sitecode)"
   ]
  },
  {
   "cell_type": "code",
   "execution_count": null,
   "id": "e43090e5-462c-4524-9a86-83916c7b07db",
   "metadata": {},
   "outputs": [],
   "source": [
    "ds.sel(site_id=sitecode).plot()"
   ]
  },
  {
   "cell_type": "code",
   "execution_count": null,
   "id": "7e5f6082-b2a0-4f05-aae1-7e853dd91b34",
   "metadata": {},
   "outputs": [],
   "source": [
    "ds.sel(site_id=sitecode).WTEQ_D.plot();"
   ]
  },
  {
   "cell_type": "code",
   "execution_count": null,
   "id": "e8243010-3f76-4003-a5e4-989b3255a84a",
   "metadata": {},
   "outputs": [],
   "source": [
    "f, ax = plt.subplots()\n",
    "ds.sel(site_id=sitecode).WTEQ_D.plot(ax=ax, label='WTEQ_D')\n",
    "ds.sel(site_id=sitecode).SNWD_D.plot(ax=ax, label='SNWD_D')\n",
    "ax.legend();"
   ]
  },
  {
   "cell_type": "code",
   "execution_count": null,
   "id": "47b9b389-af7c-42e0-aa4d-ca181257718d",
   "metadata": {},
   "outputs": [],
   "source": [
    "import hvplot.xarray"
   ]
  },
  {
   "cell_type": "code",
   "execution_count": null,
   "id": "a8d1c16a-c695-4457-ba1d-d0354a83c772",
   "metadata": {},
   "outputs": [],
   "source": [
    "ds.sel(site_id=sitecode).hvplot()"
   ]
  },
  {
   "cell_type": "code",
   "execution_count": null,
   "id": "8b2c0254-bc53-47c0-8bb7-b3a40305fd5c",
   "metadata": {},
   "outputs": [],
   "source": [
    "ds.isel(site_id=0).plot.scatter(x=\"SNWD_D\", y=\"WTEQ_D\", s=1, c=ds.isel(site_id=0)['time'])"
   ]
  },
  {
   "cell_type": "code",
   "execution_count": null,
   "id": "b1d31f2f-4d69-4787-a6d4-0f6bad422b61",
   "metadata": {},
   "outputs": [],
   "source": [
    "ds.plot.scatter(x=\"lon\", y=\"lat\", c=ds[\"elev\"])"
   ]
  }
 ],
 "metadata": {
  "kernelspec": {
   "display_name": "Python 3 (ipykernel)",
   "language": "python",
   "name": "python3"
  },
  "language_info": {
   "codemirror_mode": {
    "name": "ipython",
    "version": 3
   },
   "file_extension": ".py",
   "mimetype": "text/x-python",
   "name": "python",
   "nbconvert_exporter": "python",
   "pygments_lexer": "ipython3",
   "version": "3.9.7"
  }
 },
 "nbformat": 4,
 "nbformat_minor": 5
}
